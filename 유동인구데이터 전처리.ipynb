{
 "cells": [
  {
   "cell_type": "markdown",
   "metadata": {},
   "source": [
    "# 유동인구 데이터 전처리\n",
    "\n",
    ">1. 분할되어 있는 데이터 합치기 (성연령유동데이터만 이용)\n",
    ">2. HDONG_NM의 한글은 참고로 보는 것뿐 추후에 삭제 예정\n",
    ">3. HDONG_CD의 동별코드는 통일성을 위해 마지막 00을 지움\n",
    ">4. 남자, 여자 연령별로 합치기\n",
    ">5. NaN 값이 존재 하지 않음"
   ]
  },
  {
   "cell_type": "code",
   "execution_count": 1,
   "metadata": {},
   "outputs": [],
   "source": [
    "import pandas as pd\n",
    "import matplotlib.pyplot as plt\n",
    "import os\n",
    "import glob\n",
    "import sys"
   ]
  },
  {
   "cell_type": "code",
   "execution_count": 2,
   "metadata": {
    "scrolled": true
   },
   "outputs": [],
   "source": [
    "# 월별로 되어있는 데이터 자료 합치기 -> 성연령유동 데이터\n",
    "path='유동인구데이터/성연령유동'\n",
    "allFiles=glob.glob(path+'/*.csv')\n",
    "flow_data = pd.DataFrame()\n",
    "list_=[]\n",
    "for file_ in allFiles:\n",
    "    df=pd.read_csv(file_, encoding='utf-8', sep='|')\n",
    "    list_.append(df)"
   ]
  },
  {
   "cell_type": "code",
   "execution_count": 3,
   "metadata": {},
   "outputs": [],
   "source": [
    "flow_data=pd.concat(list_)"
   ]
  },
  {
   "cell_type": "code",
   "execution_count": 4,
   "metadata": {},
   "outputs": [
    {
     "data": {
      "text/plain": [
       "Index(['STD_YM', 'STD_YMD', 'HDONG_CD', 'HDONG_NM', 'MAN_FLOW_POP_CNT_0004',\n",
       "       'MAN_FLOW_POP_CNT_0509', 'MAN_FLOW_POP_CNT_1014',\n",
       "       'MAN_FLOW_POP_CNT_1519', 'MAN_FLOW_POP_CNT_2024',\n",
       "       'MAN_FLOW_POP_CNT_2529', 'MAN_FLOW_POP_CNT_3034',\n",
       "       'MAN_FLOW_POP_CNT_3539', 'MAN_FLOW_POP_CNT_4044',\n",
       "       'MAN_FLOW_POP_CNT_4549', 'MAN_FLOW_POP_CNT_5054',\n",
       "       'MAN_FLOW_POP_CNT_5559', 'MAN_FLOW_POP_CNT_6064',\n",
       "       'MAN_FLOW_POP_CNT_6569', 'MAN_FLOW_POP_CNT_70U',\n",
       "       'WMAN_FLOW_POP_CNT_0004', 'WMAN_FLOW_POP_CNT_0509',\n",
       "       'WMAN_FLOW_POP_CNT_1014', 'WMAN_FLOW_POP_CNT_1519',\n",
       "       'WMAN_FLOW_POP_CNT_2024', 'WMAN_FLOW_POP_CNT_2529',\n",
       "       'WMAN_FLOW_POP_CNT_3034', 'WMAN_FLOW_POP_CNT_3539',\n",
       "       'WMAN_FLOW_POP_CNT_4044', 'WMAN_FLOW_POP_CNT_4549',\n",
       "       'WMAN_FLOW_POP_CNT_5054', 'WMAN_FLOW_POP_CNT_5559',\n",
       "       'WMAN_FLOW_POP_CNT_6064', 'WMAN_FLOW_POP_CNT_6569',\n",
       "       'WMAN_FLOW_POP_CNT_70U'],\n",
       "      dtype='object')"
      ]
     },
     "execution_count": 4,
     "metadata": {},
     "output_type": "execute_result"
    }
   ],
   "source": [
    "flow_data.columns"
   ]
  },
  {
   "cell_type": "code",
   "execution_count": 5,
   "metadata": {},
   "outputs": [
    {
     "data": {
      "text/html": [
       "<div>\n",
       "<style scoped>\n",
       "    .dataframe tbody tr th:only-of-type {\n",
       "        vertical-align: middle;\n",
       "    }\n",
       "\n",
       "    .dataframe tbody tr th {\n",
       "        vertical-align: top;\n",
       "    }\n",
       "\n",
       "    .dataframe thead th {\n",
       "        text-align: right;\n",
       "    }\n",
       "</style>\n",
       "<table border=\"1\" class=\"dataframe\">\n",
       "  <thead>\n",
       "    <tr style=\"text-align: right;\">\n",
       "      <th></th>\n",
       "      <th>STD_YM</th>\n",
       "      <th>STD_YMD</th>\n",
       "      <th>HDONG_CD</th>\n",
       "      <th>HDONG_NM</th>\n",
       "      <th>MAN_FLOW_POP_CNT_0004</th>\n",
       "      <th>MAN_FLOW_POP_CNT_0509</th>\n",
       "      <th>MAN_FLOW_POP_CNT_1014</th>\n",
       "      <th>MAN_FLOW_POP_CNT_1519</th>\n",
       "      <th>MAN_FLOW_POP_CNT_2024</th>\n",
       "      <th>MAN_FLOW_POP_CNT_2529</th>\n",
       "      <th>...</th>\n",
       "      <th>WMAN_FLOW_POP_CNT_2529</th>\n",
       "      <th>WMAN_FLOW_POP_CNT_3034</th>\n",
       "      <th>WMAN_FLOW_POP_CNT_3539</th>\n",
       "      <th>WMAN_FLOW_POP_CNT_4044</th>\n",
       "      <th>WMAN_FLOW_POP_CNT_4549</th>\n",
       "      <th>WMAN_FLOW_POP_CNT_5054</th>\n",
       "      <th>WMAN_FLOW_POP_CNT_5559</th>\n",
       "      <th>WMAN_FLOW_POP_CNT_6064</th>\n",
       "      <th>WMAN_FLOW_POP_CNT_6569</th>\n",
       "      <th>WMAN_FLOW_POP_CNT_70U</th>\n",
       "    </tr>\n",
       "  </thead>\n",
       "  <tbody>\n",
       "    <tr>\n",
       "      <th>0</th>\n",
       "      <td>201804</td>\n",
       "      <td>20180401</td>\n",
       "      <td>1111051500</td>\n",
       "      <td>청운효자동</td>\n",
       "      <td>0.05</td>\n",
       "      <td>78.93</td>\n",
       "      <td>403.26</td>\n",
       "      <td>642.66</td>\n",
       "      <td>984.24</td>\n",
       "      <td>1792.30</td>\n",
       "      <td>...</td>\n",
       "      <td>1437.80</td>\n",
       "      <td>1356.08</td>\n",
       "      <td>1598.14</td>\n",
       "      <td>1495.53</td>\n",
       "      <td>1768.21</td>\n",
       "      <td>1611.47</td>\n",
       "      <td>1433.06</td>\n",
       "      <td>1212.56</td>\n",
       "      <td>549.45</td>\n",
       "      <td>811.56</td>\n",
       "    </tr>\n",
       "    <tr>\n",
       "      <th>1</th>\n",
       "      <td>201804</td>\n",
       "      <td>20180401</td>\n",
       "      <td>1111053000</td>\n",
       "      <td>사직동</td>\n",
       "      <td>1.25</td>\n",
       "      <td>262.54</td>\n",
       "      <td>1207.22</td>\n",
       "      <td>2177.88</td>\n",
       "      <td>4076.89</td>\n",
       "      <td>6887.72</td>\n",
       "      <td>...</td>\n",
       "      <td>6892.47</td>\n",
       "      <td>5743.10</td>\n",
       "      <td>5817.91</td>\n",
       "      <td>5429.89</td>\n",
       "      <td>6104.03</td>\n",
       "      <td>4998.93</td>\n",
       "      <td>4826.11</td>\n",
       "      <td>4207.45</td>\n",
       "      <td>2160.84</td>\n",
       "      <td>2972.08</td>\n",
       "    </tr>\n",
       "    <tr>\n",
       "      <th>2</th>\n",
       "      <td>201804</td>\n",
       "      <td>20180401</td>\n",
       "      <td>1111054000</td>\n",
       "      <td>삼청동</td>\n",
       "      <td>0.00</td>\n",
       "      <td>78.07</td>\n",
       "      <td>255.24</td>\n",
       "      <td>331.09</td>\n",
       "      <td>654.32</td>\n",
       "      <td>1264.86</td>\n",
       "      <td>...</td>\n",
       "      <td>1400.28</td>\n",
       "      <td>1183.11</td>\n",
       "      <td>1234.88</td>\n",
       "      <td>1157.69</td>\n",
       "      <td>1186.72</td>\n",
       "      <td>985.11</td>\n",
       "      <td>844.26</td>\n",
       "      <td>744.60</td>\n",
       "      <td>359.03</td>\n",
       "      <td>421.64</td>\n",
       "    </tr>\n",
       "    <tr>\n",
       "      <th>3</th>\n",
       "      <td>201804</td>\n",
       "      <td>20180401</td>\n",
       "      <td>1111055000</td>\n",
       "      <td>부암동</td>\n",
       "      <td>0.00</td>\n",
       "      <td>228.50</td>\n",
       "      <td>753.31</td>\n",
       "      <td>981.54</td>\n",
       "      <td>1615.77</td>\n",
       "      <td>2732.00</td>\n",
       "      <td>...</td>\n",
       "      <td>2153.73</td>\n",
       "      <td>2431.23</td>\n",
       "      <td>3028.24</td>\n",
       "      <td>2944.28</td>\n",
       "      <td>3532.23</td>\n",
       "      <td>3075.55</td>\n",
       "      <td>2785.22</td>\n",
       "      <td>2223.72</td>\n",
       "      <td>1118.48</td>\n",
       "      <td>1498.65</td>\n",
       "    </tr>\n",
       "    <tr>\n",
       "      <th>4</th>\n",
       "      <td>201804</td>\n",
       "      <td>20180401</td>\n",
       "      <td>1111056000</td>\n",
       "      <td>평창동</td>\n",
       "      <td>0.00</td>\n",
       "      <td>354.38</td>\n",
       "      <td>1500.63</td>\n",
       "      <td>1963.08</td>\n",
       "      <td>2593.07</td>\n",
       "      <td>4927.24</td>\n",
       "      <td>...</td>\n",
       "      <td>3775.91</td>\n",
       "      <td>4598.39</td>\n",
       "      <td>5661.53</td>\n",
       "      <td>5526.94</td>\n",
       "      <td>7075.02</td>\n",
       "      <td>6899.55</td>\n",
       "      <td>6886.22</td>\n",
       "      <td>5336.01</td>\n",
       "      <td>2629.75</td>\n",
       "      <td>3820.41</td>\n",
       "    </tr>\n",
       "  </tbody>\n",
       "</table>\n",
       "<p>5 rows × 34 columns</p>\n",
       "</div>"
      ],
      "text/plain": [
       "   STD_YM   STD_YMD    HDONG_CD HDONG_NM  MAN_FLOW_POP_CNT_0004  \\\n",
       "0  201804  20180401  1111051500    청운효자동                   0.05   \n",
       "1  201804  20180401  1111053000      사직동                   1.25   \n",
       "2  201804  20180401  1111054000      삼청동                   0.00   \n",
       "3  201804  20180401  1111055000      부암동                   0.00   \n",
       "4  201804  20180401  1111056000      평창동                   0.00   \n",
       "\n",
       "   MAN_FLOW_POP_CNT_0509  MAN_FLOW_POP_CNT_1014  MAN_FLOW_POP_CNT_1519  \\\n",
       "0                  78.93                 403.26                 642.66   \n",
       "1                 262.54                1207.22                2177.88   \n",
       "2                  78.07                 255.24                 331.09   \n",
       "3                 228.50                 753.31                 981.54   \n",
       "4                 354.38                1500.63                1963.08   \n",
       "\n",
       "   MAN_FLOW_POP_CNT_2024  MAN_FLOW_POP_CNT_2529  ...  WMAN_FLOW_POP_CNT_2529  \\\n",
       "0                 984.24                1792.30  ...                 1437.80   \n",
       "1                4076.89                6887.72  ...                 6892.47   \n",
       "2                 654.32                1264.86  ...                 1400.28   \n",
       "3                1615.77                2732.00  ...                 2153.73   \n",
       "4                2593.07                4927.24  ...                 3775.91   \n",
       "\n",
       "   WMAN_FLOW_POP_CNT_3034  WMAN_FLOW_POP_CNT_3539  WMAN_FLOW_POP_CNT_4044  \\\n",
       "0                 1356.08                 1598.14                 1495.53   \n",
       "1                 5743.10                 5817.91                 5429.89   \n",
       "2                 1183.11                 1234.88                 1157.69   \n",
       "3                 2431.23                 3028.24                 2944.28   \n",
       "4                 4598.39                 5661.53                 5526.94   \n",
       "\n",
       "   WMAN_FLOW_POP_CNT_4549  WMAN_FLOW_POP_CNT_5054  WMAN_FLOW_POP_CNT_5559  \\\n",
       "0                 1768.21                 1611.47                 1433.06   \n",
       "1                 6104.03                 4998.93                 4826.11   \n",
       "2                 1186.72                  985.11                  844.26   \n",
       "3                 3532.23                 3075.55                 2785.22   \n",
       "4                 7075.02                 6899.55                 6886.22   \n",
       "\n",
       "   WMAN_FLOW_POP_CNT_6064  WMAN_FLOW_POP_CNT_6569  WMAN_FLOW_POP_CNT_70U  \n",
       "0                 1212.56                  549.45                 811.56  \n",
       "1                 4207.45                 2160.84                2972.08  \n",
       "2                  744.60                  359.03                 421.64  \n",
       "3                 2223.72                 1118.48                1498.65  \n",
       "4                 5336.01                 2629.75                3820.41  \n",
       "\n",
       "[5 rows x 34 columns]"
      ]
     },
     "execution_count": 5,
     "metadata": {},
     "output_type": "execute_result"
    }
   ],
   "source": [
    "flow_data.head()"
   ]
  },
  {
   "cell_type": "code",
   "execution_count": 9,
   "metadata": {},
   "outputs": [],
   "source": [
    "# 동 코드 수정하기\n",
    "HDONG_CD=[int(str(aaaabbccdd)[:8]) for aaaabbccdd in flow_data['HDONG_CD']]\n",
    "flow_data['HDONG_CD']=HDONG_CD"
   ]
  },
  {
   "cell_type": "code",
   "execution_count": 11,
   "metadata": {},
   "outputs": [],
   "source": [
    "del flow_data['STD_YM']"
   ]
  },
  {
   "cell_type": "code",
   "execution_count": 12,
   "metadata": {},
   "outputs": [],
   "source": [
    "#연령별 합치기 \n",
    "cnt=['0004','0509','1014','1519','2024','2529','3034','3539','4044','4549','5054','5559','6064','6569','70U']\n",
    "for i in cnt:\n",
    "    flow_data['FLOW_CNT_'+i]=flow_data['MAN_FLOW_POP_CNT_'+i]+flow_data['WMAN_FLOW_POP_CNT_'+i]\n",
    "    flow_data.drop(['MAN_FLOW_POP_CNT_'+i,'WMAN_FLOW_POP_CNT_'+i], axis=1, inplace=True)"
   ]
  },
  {
   "cell_type": "code",
   "execution_count": 14,
   "metadata": {
    "scrolled": true
   },
   "outputs": [
    {
     "name": "stdout",
     "output_type": "stream",
     "text": [
      "<class 'pandas.core.frame.DataFrame'>\n",
      "Int64Index: 13140 entries, 0 to 1115\n",
      "Data columns (total 18 columns):\n",
      "STD_YMD          13140 non-null int64\n",
      "HDONG_CD         13140 non-null int64\n",
      "HDONG_NM         13140 non-null object\n",
      "FLOW_CNT_0004    13140 non-null float64\n",
      "FLOW_CNT_0509    13140 non-null float64\n",
      "FLOW_CNT_1014    13140 non-null float64\n",
      "FLOW_CNT_1519    13140 non-null float64\n",
      "FLOW_CNT_2024    13140 non-null float64\n",
      "FLOW_CNT_2529    13140 non-null float64\n",
      "FLOW_CNT_3034    13140 non-null float64\n",
      "FLOW_CNT_3539    13140 non-null float64\n",
      "FLOW_CNT_4044    13140 non-null float64\n",
      "FLOW_CNT_4549    13140 non-null float64\n",
      "FLOW_CNT_5054    13140 non-null float64\n",
      "FLOW_CNT_5559    13140 non-null float64\n",
      "FLOW_CNT_6064    13140 non-null float64\n",
      "FLOW_CNT_6569    13140 non-null float64\n",
      "FLOW_CNT_70U     13140 non-null float64\n",
      "dtypes: float64(15), int64(2), object(1)\n",
      "memory usage: 1.9+ MB\n"
     ]
    }
   ],
   "source": [
    "flow_data.info()"
   ]
  },
  {
   "cell_type": "code",
   "execution_count": 17,
   "metadata": {},
   "outputs": [],
   "source": [
    "flow_data.to_csv('유동인구데이터처리/Pre_flow_pop.csv', encoding='utf-8', index=False)"
   ]
  },
  {
   "cell_type": "code",
   "execution_count": null,
   "metadata": {},
   "outputs": [],
   "source": []
  }
 ],
 "metadata": {
  "kernelspec": {
   "display_name": "Python 3",
   "language": "python",
   "name": "python3"
  },
  "language_info": {
   "codemirror_mode": {
    "name": "ipython",
    "version": 3
   },
   "file_extension": ".py",
   "mimetype": "text/x-python",
   "name": "python",
   "nbconvert_exporter": "python",
   "pygments_lexer": "ipython3",
   "version": "3.7.3"
  }
 },
 "nbformat": 4,
 "nbformat_minor": 2
}
